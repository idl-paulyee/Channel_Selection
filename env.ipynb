{
 "cells": [
  {
   "cell_type": "code",
   "execution_count": 1,
   "metadata": {},
   "outputs": [],
   "source": [
    "import time\n",
    "import numpy as np\n",
    "import random\n",
    "#import tkinter as tk\n",
    "#from PIL import ImageTk, Image"
   ]
  },
  {
   "cell_type": "code",
   "execution_count": 2,
   "metadata": {},
   "outputs": [],
   "source": [
    "np.random.seed(2)"
   ]
  },
  {
   "cell_type": "code",
   "execution_count": 3,
   "metadata": {},
   "outputs": [],
   "source": [
    "class Env( ):\n",
    "    def __init__(self):\n",
    "        super(Env, self).__init__()\n",
    "        self.actions = [\n",
    "            \"Channel_1\",\n",
    "            \"Channel_6\",\n",
    "            \"Channel_11\"\n",
    "        ]\n",
    "\n",
    "        self.tx_power_list = [20, 24, 27, 30]\n",
    "        self.n_actions = len(self.actions)\n",
    "        self.n_features = 4\n",
    "        self.env_state = {\n",
    "            \"Channel_1\":{},\n",
    "            \"Channel_2\":{},\n",
    "            \"Channel_3\":{}\n",
    "        }\n",
    "        self.state =\"\"\n",
    "        self.time = 1\n",
    "        self.count = 1\n",
    "        self.time_env_state = {}\n",
    "\n",
    "    def data(self):\n",
    "        RSSI_1 = random.randint(-100, 0)\n",
    "        RSSI_2 = random.randint(-100, 0)\n",
    "        tx_power = random.choice(self.tx_power_list)\n",
    "        spectral_density = random.uniform(0, 100)\n",
    "        channel = np.array([RSSI_1, RSSI_2, tx_power, spectral_density])\n",
    "        return channel\n",
    "    def update_State(self):\n",
    "        self.time_env_state[\"current\"] = {\"Channel_1\": self.data(),\n",
    "                                         \"Channel_6\": self.data(),\n",
    "                                         \"Channel_11\": self.data(),}\n",
    "\n",
    "        return self.time_env_state[\"current\"]\n",
    "\n",
    "    def reset(self):\n",
    "        self.update_State()\n",
    "        self.state = \"Channel_1\"\n",
    "        return self.time_env_state[\"current\"][self.state]\n",
    "\n",
    "    def power_sum(self, state):\n",
    "        pass\n",
    "\n",
    "    def step(self, action):\n",
    "        self.time += 1\n",
    "        self.update_State()\n",
    "        value = 0\n",
    "        max_value = -9999\n",
    "        action_key = \"\"\n",
    "        \"\"\"\n",
    "        for key in self.time_env_state[\"current\"]:\n",
    "\n",
    "            value = self.power_sum(self.time_env_state[\"current\"][key])\n",
    "            \n",
    "            比较  \n",
    "            if value > max_value:\n",
    "                max_value = value\n",
    "                action_key = key\n",
    "            \"\"\"\n",
    "       # print(self.time)\n",
    "        next_state = action\n",
    "\n",
    "        if next_state == action_key:\n",
    "            self.count += 1\n",
    "            reward = self.count\n",
    "        else:\n",
    "            reward = 0\n",
    "            self.count = 1\n",
    "        self.state = next_state\n",
    "        return self.time_env_state[\"current\"][next_state], reward\n",
    "\n",
    "\n",
    "\n"
   ]
  },
  {
   "cell_type": "code",
   "execution_count": null,
   "metadata": {},
   "outputs": [],
   "source": []
  }
 ],
 "metadata": {
  "kernelspec": {
   "display_name": "Python 3",
   "language": "python",
   "name": "python3"
  },
  "language_info": {
   "codemirror_mode": {
    "name": "ipython",
    "version": 3
   },
   "file_extension": ".py",
   "mimetype": "text/x-python",
   "name": "python",
   "nbconvert_exporter": "python",
   "pygments_lexer": "ipython3",
   "version": "3.6.1"
  }
 },
 "nbformat": 4,
 "nbformat_minor": 2
}
