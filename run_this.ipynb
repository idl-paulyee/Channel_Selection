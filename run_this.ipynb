{
 "cells": [
  {
   "cell_type": "markdown",
   "metadata": {},
   "source": [
    "# simulation"
   ]
  },
  {
   "cell_type": "code",
   "execution_count": null,
   "metadata": {},
   "outputs": [],
   "source": [
    "from env import Env\n",
    "from RL_brain import DeepQNetwork"
   ]
  },
  {
   "cell_type": "code",
   "execution_count": null,
   "metadata": {},
   "outputs": [],
   "source": [
    "def run():\n",
    "    step = 0\n",
    "    for episode in range(100):\n",
    "        # initial observation\n",
    "        observation = env.reset()\n",
    "\n",
    "\n",
    "        while True:\n",
    "            # fresh env\n",
    "\n",
    "            # RL choose action based on observation\n",
    "            action = RL.choose_action(observation)\n",
    "            if action == 0:\n",
    "                action_ = \"Channel_1\"\n",
    "            elif action == 1:\n",
    "                action_ = \"Channel_6\"\n",
    "            else:\n",
    "                action_ = \"Channel_11\"\n",
    "            print(action_)\n",
    "            print(observation)\n",
    "            # RL take action and get next observation and reward\n",
    "            observation_, reward = env.step(action_)\n",
    "\n",
    "            RL.store_transition(observation, action, reward, observation_)\n",
    "\n",
    "            if (step > 200) and (step % 5 == 0):#Start learning when the number of steps is greater than two hundred, and learn every five steps.\n",
    "                RL.learn()\n",
    "\n",
    "            # swap observation\n",
    "            observation = observation_\n",
    "\n",
    "            # break while loop when end of this episode\n",
    "            step += 1\n"
   ]
  },
  {
   "cell_type": "code",
   "execution_count": null,
   "metadata": {},
   "outputs": [],
   "source": [
    "if __name__ == \"__main__\":\n",
    "    # maze game\n",
    "    env = Env()\n",
    "    RL = DeepQNetwork(env.n_actions, env.n_features,\n",
    "                      learning_rate=0.01,\n",
    "                      reward_decay=0.9,\n",
    "                      e_greedy=0.9,\n",
    "                      replace_target_iter=200,\n",
    "                      memory_size=2000,\n",
    "                     \n",
    "                      )\n",
    "    \n",
    "    run()\n",
    "    RL.plot_cost()"
   ]
  },
  {
   "cell_type": "code",
   "execution_count": null,
   "metadata": {},
   "outputs": [],
   "source": []
  }
 ],
 "metadata": {
  "kernelspec": {
   "display_name": "Python 3",
   "language": "python",
   "name": "python3"
  },
  "language_info": {
   "codemirror_mode": {
    "name": "ipython",
    "version": 3
   },
   "file_extension": ".py",
   "mimetype": "text/x-python",
   "name": "python",
   "nbconvert_exporter": "python",
   "pygments_lexer": "ipython3",
   "version": "3.6.1"
  }
 },
 "nbformat": 4,
 "nbformat_minor": 2
}
