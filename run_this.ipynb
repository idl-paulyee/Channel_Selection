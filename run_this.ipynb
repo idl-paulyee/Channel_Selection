{
 "cells": [
  {
   "cell_type": "markdown",
   "metadata": {},
   "source": [
    "# RL for Channel Selection\n",
    "## Top-level simulation script"
   ]
  },
  {
   "cell_type": "markdown",
   "metadata": {},
   "source": [
    "## Define functions to allow importing from Jupyter notebooks\n",
    "Ref: https://jupyter-notebook.readthedocs.io/en/stable/examples/Notebook/Importing%20Notebooks.html\n",
    "\n",
    "NB: This code should be moved to a utility library."
   ]
  },
  {
   "cell_type": "code",
   "execution_count": null,
   "metadata": {},
   "outputs": [],
   "source": [
    "import io, os, sys, types\n",
    "from IPython import get_ipython\n",
    "from nbformat import read\n",
    "from IPython.core.interactiveshell import InteractiveShell\n",
    "import numpy as np\n",
    "import matplotlib.pyplot as plt"
   ]
  },
  {
   "cell_type": "code",
   "execution_count": null,
   "metadata": {},
   "outputs": [],
   "source": [
    "def find_notebook(fullname, path=None):\n",
    "    \"\"\"find a notebook, given its fully qualified name and an optional path\n",
    "\n",
    "    This turns \"foo.bar\" into \"foo/bar.ipynb\"\n",
    "    and tries turning \"Foo_Bar\" into \"Foo Bar\" if Foo_Bar\n",
    "    does not exist.\n",
    "    \"\"\"\n",
    "    name = fullname.rsplit('.', 1)[-1]\n",
    "    if not path:\n",
    "        path = ['']\n",
    "    for d in path:\n",
    "        nb_path = os.path.join(d, name + \".ipynb\")\n",
    "        if os.path.isfile(nb_path):\n",
    "            return nb_path\n",
    "        # let import Notebook_Name find \"Notebook Name.ipynb\"\n",
    "        nb_path = nb_path.replace(\"_\", \" \")\n",
    "        if os.path.isfile(nb_path):\n",
    "            return nb_path\n",
    "        \n",
    "class NotebookLoader(object):\n",
    "    \"\"\"Module Loader for Jupyter Notebooks\"\"\"\n",
    "    def __init__(self, path=None):\n",
    "        self.shell = InteractiveShell.instance()\n",
    "        self.path = path\n",
    "\n",
    "    def load_module(self, fullname):\n",
    "        \"\"\"import a notebook as a module\"\"\"\n",
    "        path = find_notebook(fullname, self.path)\n",
    "\n",
    "        print (\"importing Jupyter notebook from %s\" % path)\n",
    "\n",
    "        # load the notebook object\n",
    "        with io.open(path, 'r', encoding='utf-8') as f:\n",
    "            nb = read(f, 4)\n",
    "\n",
    "\n",
    "        # create the module and add it to sys.modules\n",
    "        # if name in sys.modules:\n",
    "        #    return sys.modules[name]\n",
    "        mod = types.ModuleType(fullname)\n",
    "        mod.__file__ = path\n",
    "        mod.__loader__ = self\n",
    "        mod.__dict__['get_ipython'] = get_ipython\n",
    "        sys.modules[fullname] = mod\n",
    "\n",
    "        # extra work to ensure that magics that would affect the user_ns\n",
    "        # actually affect the notebook module's ns\n",
    "        save_user_ns = self.shell.user_ns\n",
    "        self.shell.user_ns = mod.__dict__\n",
    "\n",
    "        try:\n",
    "          for cell in nb.cells:\n",
    "            if cell.cell_type == 'code':\n",
    "                # transform the input to executable Python\n",
    "                code = self.shell.input_transformer_manager.transform_cell(cell.source)\n",
    "                # run the code in themodule\n",
    "                exec(code, mod.__dict__)\n",
    "        finally:\n",
    "            self.shell.user_ns = save_user_ns\n",
    "        return mod\n",
    "    \n",
    "class NotebookFinder(object):\n",
    "    \"\"\"Module finder that locates Jupyter Notebooks\"\"\"\n",
    "    def __init__(self):\n",
    "        self.loaders = {}\n",
    "\n",
    "    def find_module(self, fullname, path=None):\n",
    "        nb_path = find_notebook(fullname, path)\n",
    "        if not nb_path:\n",
    "            return\n",
    "\n",
    "        key = path\n",
    "        if path:\n",
    "            # lists aren't hashable\n",
    "            key = os.path.sep.join(path)\n",
    "\n",
    "        if key not in self.loaders:\n",
    "            self.loaders[key] = NotebookLoader(path)\n",
    "        return self.loaders[key]\n",
    "    \n",
    "sys.meta_path.append(NotebookFinder())"
   ]
  },
  {
   "cell_type": "markdown",
   "metadata": {},
   "source": [
    "## Begin main simulation run script."
   ]
  },
  {
   "cell_type": "code",
   "execution_count": null,
   "metadata": {},
   "outputs": [],
   "source": [
    "from env import Env\n",
    "from RL_brain import DeepQNetwork"
   ]
  },
  {
   "cell_type": "markdown",
   "metadata": {},
   "source": [
    "## Simulation configuration parameters"
   ]
  },
  {
   "cell_type": "code",
   "execution_count": null,
   "metadata": {},
   "outputs": [],
   "source": [
    "sim = {\n",
    "    'cfg' : {\n",
    "        'run' : { # run parameters\n",
    "            'numEpisodes'    : 1,  # num. of episodes to run\n",
    "            'maxSteps'       : 50000, # max. num. of sim. steps\n",
    "            'startLearnStep' : 200,  # start periodic training after this step num.\n",
    "            'learnPeriod'    : 5,    # num. of steps between (re)training\n",
    "        },\n",
    "        'dqn' : { # DQN parameters\n",
    "            'learningRate'      : 0.01, # please provide summary comments for each parameter\n",
    "            'rewardDecay'       : 0.9,      \n",
    "             'eGreedy'           : 1,\n",
    "            'eGreedyincrement'  :0.005, # Change the e_greedy value\n",
    "            'replaceTargetIter' : 200,\n",
    "            'memorySize'        : 2000,\n",
    "        }\n",
    "    }\n",
    "}"
   ]
  },
  {
   "cell_type": "markdown",
   "metadata": {},
   "source": [
    "## The run() command runs the main simulation loop."
   ]
  },
  {
   "cell_type": "code",
   "execution_count": null,
   "metadata": {},
   "outputs": [],
   "source": [
    "def run():\n",
    "    # For ease of access to run parameters.\n",
    "    step = 0\n",
    "    numEpisodes = sim['cfg']['run']['numEpisodes']\n",
    "    maxSteps = sim['cfg']['run']['maxSteps']\n",
    "    startLearnStep = sim['cfg']['run']['startLearnStep']\n",
    "    learnPeriod = sim['cfg']['run']['learnPeriod']\n",
    "    \n",
    "    for episode in range(numEpisodes):\n",
    "        # initial observation\n",
    "        step = 0\n",
    "        env_state_1 = env.reset()\n",
    "        \n",
    "        while step < maxSteps:\n",
    "            # fresh env\n",
    "\n",
    "            # Output current observation:\n",
    "            #print('{}: current env = {}\\n'.format(env.time, env.__dict__))\n",
    "            print('{}: current env = {}\\n'.format(env.time,env.time_env_state))\n",
    "\n",
    "            env_state = np.hstack((env_state_1[\"Channel_1\"], env_state_1[\"Channel_6\"],\n",
    "                                   env_state_1[\"Channel_11\"]))\n",
    "            # RL choose action based on env_state\n",
    "\n",
    "            action = RL.choose_action(env_state)\n",
    "            if action == 0:\n",
    "                action_ = \"Channel_1\"\n",
    "            elif action == 1:\n",
    "                action_ = \"Channel_6\"\n",
    "            else:\n",
    "                action_ = \"Channel_11\"\n",
    "            observation = env_state_1[action_]\n",
    "            print('{}: action_ = {}, observation = {}\\n'.format(env.time, action_, observation))\n",
    "            # print(observation)\n",
    "            # RL take action and get next observation and reward\n",
    "            env_state_, observation_, reward = env.step(action_)\n",
    "            env_state_ = np.hstack(( env_state_[\"Channel_1\"],  env_state_[\"Channel_6\"],\n",
    "                                      env_state_[\"Channel_11\"]))\n",
    "\n",
    "\n",
    "            RL.store_transition(env_state, action, reward, env_state_)\n",
    "\n",
    "            if (step > startLearnStep) and (step % learnPeriod == 0):\n",
    "                RL.learn()\n",
    "            env_state_={\"Channel_1\":env_state_[0:4],\n",
    "                        \"Channel_6\":env_state_[4:8],\n",
    "                        \"Channel_11\":env_state_[8:12]\n",
    "\n",
    "            }\n",
    "\n",
    "            # swap observation\n",
    "            #observation = observation_\n",
    "            env_state_1 = env_state_\n",
    "\n",
    "            # break while loop when end of this episode\n",
    "            step += 1\n",
    "\n"
   ]
  },
  {
   "cell_type": "markdown",
   "metadata": {},
   "source": [
    "## Main simulation routine"
   ]
  },
  {
   "cell_type": "code",
   "execution_count": null,
   "metadata": {},
   "outputs": [],
   "source": [
    "if __name__ == \"__main__\":\n",
    "    # maze game\n",
    "    env = Env()\n",
    "    \n",
    "    # For ease of access to DQN config. parameters.\n",
    "    learningRate = sim['cfg']['dqn']['learningRate']\n",
    "    rewardDecay = sim['cfg']['dqn']['rewardDecay']\n",
    "    eGreedy = sim['cfg']['dqn']['eGreedy']\n",
    "    e_greedy_increment = sim['cfg']['dqn']['eGreedyincrement']\n",
    "    replaceTargetIter = sim['cfg']['dqn']['replaceTargetIter']\n",
    "    rewardDecay = sim['cfg']['dqn']['learningRate']    \n",
    "    memorySize = sim['cfg']['dqn']['memorySize']\n",
    "    \n",
    "    RL = DeepQNetwork(env.n_actions, env.n_features,\n",
    "                      learning_rate=learningRate,\n",
    "                      reward_decay=rewardDecay,\n",
    "                      e_greedy=eGreedy,\n",
    "                      replace_target_iter=replaceTargetIter,\n",
    "                      e_greedy_increment = e_greedy_increment,\n",
    "                      memory_size=memorySize,                   \n",
    "                      )\n",
    "    #    env.data()\n",
    "    run()\n",
    "    RL.plot_cost()\n",
    "   # env.plot_count()\n",
    "    plt.figure()\n",
    "\n",
    "\n",
    "\n",
    "    plt.plot(\n",
    "        np.divide(np.cumsum([1 if i >= 1 else 0 for i in env.count_history]), np.arange(len(env.count_history)) +1),\n",
    "        '.-')\n",
    "    plt.xlabel('Training Step')\n",
    "    plt.ylabel('Cumulative % selection action is max. value action')\n",
    "    plt.grid(True)\n",
    "    plt.show()\n",
    "\n",
    "\n",
    "\n",
    "   \n"
   ]
  },
  {
   "cell_type": "code",
   "execution_count": null,
   "metadata": {
    "scrolled": true
   },
   "outputs": [],
   "source": []
  },
  {
   "cell_type": "code",
   "execution_count": null,
   "metadata": {},
   "outputs": [],
   "source": []
  }
 ],
 "metadata": {
  "kernelspec": {
   "display_name": "Python 3",
   "language": "python",
   "name": "python3"
  },
  "language_info": {
   "codemirror_mode": {
    "name": "ipython",
    "version": 3
   },
   "file_extension": ".py",
   "mimetype": "text/x-python",
   "name": "python",
   "nbconvert_exporter": "python",
   "pygments_lexer": "ipython3",
   "version": "3.6.1"
  }
 },
 "nbformat": 4,
 "nbformat_minor": 1
}
